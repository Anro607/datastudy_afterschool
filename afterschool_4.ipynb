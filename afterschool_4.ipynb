{
  "nbformat": 4,
  "nbformat_minor": 0,
  "metadata": {
    "colab": {
      "provenance": [],
      "authorship_tag": "ABX9TyO0UcDWFFj3D8Ipc4hdFxg1",
      "include_colab_link": true
    },
    "kernelspec": {
      "name": "python3",
      "display_name": "Python 3"
    },
    "language_info": {
      "name": "python"
    }
  },
  "cells": [
    {
      "cell_type": "markdown",
      "metadata": {
        "id": "view-in-github",
        "colab_type": "text"
      },
      "source": [
        "<a href=\"https://colab.research.google.com/github/Anro607/datastudy_afterschool/blob/main/afterschool_4.ipynb\" target=\"_parent\"><img src=\"https://colab.research.google.com/assets/colab-badge.svg\" alt=\"Open In Colab\"/></a>"
      ]
    },
    {
      "cell_type": "code",
      "execution_count": null,
      "metadata": {
        "id": "R1cwLrcx5_Gk"
      },
      "outputs": [],
      "source": [
        "import requests\n",
        "isbn = '도리언'\n",
        "url = 'https://www.yes24.com/Product/Search?domain=ALL&query={}'\n",
        "r = requests.get(url.format(isbn))\n",
        "\n",
        "print(r.text)"
      ]
    },
    {
      "cell_type": "code",
      "source": [
        "from bs4 import BeautifulSoup\n",
        "soup = BeautifulSoup(r.text, 'html.parser')"
      ],
      "metadata": {
        "id": "6GRS1XoE9DSM"
      },
      "execution_count": 6,
      "outputs": []
    },
    {
      "cell_type": "code",
      "source": [
        "prd_link = soup.find('a', attrs={'class':'gd_name'})\n",
        "print(prd_link['href'])"
      ],
      "metadata": {
        "colab": {
          "base_uri": "https://localhost:8080/"
        },
        "id": "tmnZuPyc9VQS",
        "outputId": "4dedd718-e610-4f5b-e69b-1745a2f77e1f"
      },
      "execution_count": 11,
      "outputs": [
        {
          "output_type": "stream",
          "name": "stdout",
          "text": [
            "/Product/Goods/120827874\n"
          ]
        }
      ]
    },
    {
      "cell_type": "code",
      "source": [
        "url2 = 'https://www.yes24.com' + prd_link['href']\n",
        "r2 = requests.get(url2)"
      ],
      "metadata": {
        "id": "p7AILqa7Aa7z"
      },
      "execution_count": 12,
      "outputs": []
    },
    {
      "cell_type": "code",
      "source": [
        "soup2 = BeautifulSoup(r2.text, 'html.parser')\n",
        "pro_detail = soup2.find('div', attrs={'id' : 'infoset_specific'})\n",
        "print(pro_detail)"
      ],
      "metadata": {
        "id": "C1hkO-gLAsO0"
      },
      "execution_count": null,
      "outputs": []
    },
    {
      "cell_type": "code",
      "source": [
        "prd_tr_list = pro_detail.find_all('tr')\n",
        "print(prd_tr_list)"
      ],
      "metadata": {
        "colab": {
          "base_uri": "https://localhost:8080/"
        },
        "id": "VdVNIYWICEkK",
        "outputId": "5fec5212-3bb5-4edc-9229-90662a18a506"
      },
      "execution_count": 14,
      "outputs": [
        {
          "output_type": "stream",
          "name": "stdout",
          "text": [
            "[<tr>\n",
            "<th class=\"txt\" scope=\"row\">발행일</th>\n",
            "<td class=\"txt lastCol\">2023년 07월 31일</td>\n",
            "</tr>, <tr>\n",
            "<th class=\"txt\" scope=\"row\">쪽수, 무게, 크기</th>\n",
            "<td class=\"txt lastCol\">240쪽 | 320g | 135*210*20mm</td>\n",
            "</tr>, <tr>\n",
            "<th class=\"txt\" scope=\"row\">ISBN13</th>\n",
            "<td class=\"txt lastCol\">9791171170135</td>\n",
            "</tr>, <tr>\n",
            "<th class=\"txt\" scope=\"row\">ISBN10</th>\n",
            "<td class=\"txt lastCol\">1171170130</td>\n",
            "</tr>]\n"
          ]
        }
      ]
    },
    {
      "cell_type": "code",
      "source": [
        "for tr in prd_tr_list:\n",
        "  if tr.find('th').get_text() == '쪽수, 무게, 크기':\n",
        "    page_td = tr.find('td').get_text()\n",
        "    break"
      ],
      "metadata": {
        "id": "0Ifgv67HDSG6"
      },
      "execution_count": 17,
      "outputs": []
    },
    {
      "cell_type": "code",
      "source": [
        "print(page_td)\n",
        "print(page_td.split()[0])"
      ],
      "metadata": {
        "colab": {
          "base_uri": "https://localhost:8080/"
        },
        "id": "jWc0oo7IDpH6",
        "outputId": "125a050e-5797-47a9-ee3c-0f8997ae408a"
      },
      "execution_count": 22,
      "outputs": [
        {
          "output_type": "stream",
          "name": "stdout",
          "text": [
            "240쪽 | 320g | 135*210*20mm\n",
            "240쪽\n"
          ]
        }
      ]
    },
    {
      "cell_type": "code",
      "source": [
        "def get_page_cnt(isbn):\n",
        "  url = 'https://www.yes24.com/Product/Search?domain=ALL&query={}'\n",
        "\n",
        "  r = requests.get(url.format(isbn))\n",
        "  soup = BeautifulSoup(r.text, 'html.parser')\n",
        "\n",
        "  prd_link = soup.find('a', attrs={'class':'gd_name'})\n",
        "\n",
        "  url2 = 'https://www.yes24.com' + prd_link['href']\n",
        "  r2 = requests.get(url2)\n",
        "  soup2 = BeautifulSoup(r2.text, 'html.parser')\n",
        "\n",
        "  pro_detail = soup2.find('div', attrs={'id' : 'infoset_specific'})\n",
        "\n",
        "  prd_tr_list = pro_detail.find_all('tr')\n",
        "\n",
        "  for tr in prd_tr_list:\n",
        "    if tr.find('th').get_text() == '쪽수, 무게, 크기':\n",
        "      page_td_split = tr.find('td').get_text().split()[0]\n",
        "      return page_td_split\n",
        "    return ''\n",
        "\n",
        "print(get_page_cnt(isbn))\n",
        ""
      ],
      "metadata": {
        "colab": {
          "base_uri": "https://localhost:8080/"
        },
        "id": "LdXsVIA4EYUR",
        "outputId": "335c3b45-d20d-4f34-b1ac-dcedbb37f852"
      },
      "execution_count": 24,
      "outputs": [
        {
          "output_type": "stream",
          "name": "stdout",
          "text": [
            "\n"
          ]
        }
      ]
    }
  ]
}